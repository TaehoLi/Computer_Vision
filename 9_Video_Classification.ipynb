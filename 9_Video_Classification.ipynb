{
 "cells": [
  {
   "cell_type": "markdown",
   "metadata": {},
   "source": [
    "## 1. video to frames"
   ]
  },
  {
   "cell_type": "code",
   "execution_count": 1,
   "metadata": {},
   "outputs": [],
   "source": [
    "import cv2\n",
    "video_path = ''\n",
    "video_handle = cv2.VideoCapture(video_path)\n",
    "frame_no = 0\n",
    "\n",
    "while True:\n",
    "    eof, frame = video_handle.read()\n",
    "    if not eof:\n",
    "        break\n",
    "    cv2.imwrite(\"frame%d.jpg\" % frame_no, frame)\n",
    "    frame_no += 1\n",
    "    "
   ]
  },
  {
   "cell_type": "markdown",
   "metadata": {},
   "source": [
    "## 2. lstm after cnn"
   ]
  },
  {
   "cell_type": "code",
   "execution_count": 1,
   "metadata": {},
   "outputs": [],
   "source": [
    "import tensorflow as tf\n",
    "input_shape = [500,500]\n",
    "no_classes = 2\n",
    "\n",
    "net = tf.keras.models.Sequential()\n",
    "net.add(tf.keras.layers.LSTM(2048,\n",
    "             return_sequences=False,\n",
    "             input_shape=input_shape,\n",
    "             dropout=0.5))\n",
    "net.add(tf.keras.layers.Dense(512, activation='relu'))\n",
    "net.add(tf.keras.layers.Dropout(0.5))\n",
    "net.add(tf.keras.layers.Dense(no_classes, activation='softmax'))"
   ]
  },
  {
   "cell_type": "markdown",
   "metadata": {},
   "source": [
    "## 3. 3d convolution"
   ]
  },
  {
   "cell_type": "code",
   "execution_count": 1,
   "metadata": {},
   "outputs": [],
   "source": [
    "import tensorflow as tf\n",
    "input_shape = 227, 227, 200, 3\n",
    "no_classes = 2\n",
    "\n",
    "net = tf.keras.models.Sequential()\n",
    "net.add(tf.keras.layers.Conv3D(32,\n",
    "                               kernel_size=(3, 3, 3),\n",
    "                               input_shape=(input_shape)))\n",
    "net.add(tf.keras.layers.Activation('relu'))\n",
    "net.add(tf.keras.layers.Conv3D(32, (3, 3, 3)))\n",
    "net.add(tf.keras.layers.Activation('softmax'))\n",
    "net.add(tf.keras.layers.MaxPooling3D())\n",
    "net.add(tf.keras.layers.Dropout(0.25))\n",
    "\n",
    "net.add(tf.keras.layers.Conv3D(64, (3, 3, 3)))\n",
    "net.add(tf.keras.layers.Activation('relu'))\n",
    "net.add(tf.keras.layers.Conv3D(64, (3, 3, 3)))\n",
    "net.add(tf.keras.layers.Activation('softmax'))\n",
    "net.add(tf.keras.layers.MaxPool3D())\n",
    "net.add(tf.keras.layers.Dropout(0.25))\n",
    "\n",
    "net.add(tf.keras.layers.Flatten())\n",
    "net.add(tf.keras.layers.Dense(512, activation='sigmoid'))\n",
    "net.add(tf.keras.layers.Dropout(0.5))\n",
    "net.add(tf.keras.layers.Dense(no_classes, activation='softmax'))\n",
    "net.compile(loss=tf.keras.losses.categorical_crossentropy,\n",
    "            optimizer=tf.keras.optimizers.Adam(), metrics=['accuracy'])"
   ]
  },
  {
   "cell_type": "code",
   "execution_count": null,
   "metadata": {},
   "outputs": [],
   "source": []
  }
 ],
 "metadata": {
  "kernelspec": {
   "display_name": "Python 3",
   "language": "python",
   "name": "python3"
  },
  "language_info": {
   "codemirror_mode": {
    "name": "ipython",
    "version": 3
   },
   "file_extension": ".py",
   "mimetype": "text/x-python",
   "name": "python",
   "nbconvert_exporter": "python",
   "pygments_lexer": "ipython3",
   "version": "3.6.8"
  }
 },
 "nbformat": 4,
 "nbformat_minor": 2
}
